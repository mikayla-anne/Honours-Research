{
 "cells": [
  {
   "cell_type": "code",
   "execution_count": 22,
   "id": "012b7aa9-c579-463f-ab4f-83aa4dacd72b",
   "metadata": {},
   "outputs": [],
   "source": [
    "import numpy as np\n",
    "import pandas as pd\n",
    "import matplotlib.pyplot as plt\n",
    "import seaborn as sns\n",
    "from scipy import stats"
   ]
  },
  {
   "cell_type": "code",
   "execution_count": 23,
   "id": "d2324412-d5e2-4f88-bae6-1587807816cd",
   "metadata": {},
   "outputs": [],
   "source": [
    "df = pd.read_csv('testingstuffisworking.csv', names = ['t','winner'])\n",
    "drop = df.loc[df['t'] == 'game'].index\n",
    "df = df.drop(drop)\n",
    "df = df.drop('t', axis = 1)\n",
    "new_i = np.arange(df.shape[0])\n",
    "df = df.set_index(new_i)"
   ]
  },
  {
   "cell_type": "code",
   "execution_count": 24,
   "id": "757b1d8d-7140-43f6-a7f2-2ad278880be1",
   "metadata": {},
   "outputs": [],
   "source": [
    "df2 = pd.read_csv('testingstuffisworking2.csv', names = ['t','winner'])\n",
    "drop = df2.loc[df2['t'] == 'game'].index\n",
    "df2 = df2.drop(drop)\n",
    "df2 = df2.drop('t', axis = 1)\n",
    "new_i = np.arange(df2.shape[0])\n",
    "df2 = df2.set_index(new_i)"
   ]
  },
  {
   "cell_type": "code",
   "execution_count": 25,
   "id": "73cb9101-c002-442c-bd7a-dee59554e525",
   "metadata": {},
   "outputs": [],
   "source": [
    "df3 = pd.read_csv('testingstuffwithrewards.csv', names = ['t','winner'])\n",
    "drop = df3.loc[df3['t'] == 'game'].index\n",
    "df3 = df3.drop(drop)\n",
    "df3 = df3.drop('t', axis = 1)\n",
    "new_i = np.arange(df3.shape[0])\n",
    "df3 = df3.set_index(new_i)"
   ]
  },
  {
   "cell_type": "code",
   "execution_count": 26,
   "id": "2d253954-1e87-448d-9447-6dfba55187f2",
   "metadata": {},
   "outputs": [],
   "source": [
    "df4 = pd.read_csv('tstuff.csv', names = ['t','winner'])\n",
    "drop = df4.loc[df4['t'] == 'game'].index\n",
    "df4 = df4.drop(drop)\n",
    "df4 = df4.drop('t', axis = 1)\n",
    "new_i = np.arange(df4.shape[0])\n",
    "df4 = df4.set_index(new_i)"
   ]
  },
  {
   "cell_type": "code",
   "execution_count": 27,
   "id": "0ab74262-7032-4859-8763-973c45373555",
   "metadata": {},
   "outputs": [],
   "source": [
    "def count_steps(df):\n",
    "    first_1000 = df.iloc[:1000]\n",
    "    f1000_wins = first_1000.loc[first_1000['winner'] == 1].sum()\n",
    "\n",
    "    second_1000 = df.iloc[1000:2000]\n",
    "    s1000_wins = second_1000.loc[second_1000['winner'] == 1].sum()\n",
    "\n",
    "    third_1000 = df.iloc[2000:3000]\n",
    "    t1000_wins = third_1000.loc[third_1000['winner'] == 1].sum()\n",
    "\n",
    "    fourth_1000 = df.iloc[3000:4000]\n",
    "    fou1000_wins = fourth_1000.loc[fourth_1000['winner'] == 1].sum()\n",
    "\n",
    "    fifth_1000 = df.iloc[4000:5000]\n",
    "    fif1000_wins = fifth_1000.loc[fifth_1000['winner'] == 1].sum()\n",
    "\n",
    "    wins = np.array([f1000_wins,s1000_wins, t1000_wins,fou1000_wins,fif1000_wins])\n",
    "    headings = np.array(['first 1000 games', 'next 1000 games' , 'next 1000 games' , 'next 1000 games' , 'next 1000 games'])\n",
    "\n",
    "    first_1000 = df.iloc[:1000]\n",
    "    f1000_wins = first_1000.loc[first_1000['winner'] == 0].count()\n",
    "\n",
    "    second_1000 = df.iloc[1000:2000]\n",
    "    s1000_wins = second_1000.loc[second_1000['winner'] == 0].count()\n",
    "\n",
    "    third_1000 = df.iloc[2000:3000]\n",
    "    t1000_wins = third_1000.loc[third_1000['winner'] == 0].count()\n",
    "\n",
    "    fourth_1000 = df.iloc[3000:4000]\n",
    "    fou1000_wins = fourth_1000.loc[fourth_1000['winner'] == 0].count()\n",
    "\n",
    "    fifth_1000 = df.iloc[4000:5000]\n",
    "    fif1000_wins = fifth_1000.loc[fifth_1000['winner'] == 0].count()\n",
    "\n",
    "    wins2 = np.array([f1000_wins,s1000_wins, t1000_wins,fou1000_wins,fif1000_wins])\n",
    "\n",
    "\n",
    "    winnings = pd.DataFrame()\n",
    "    winnings['Heading'] = headings \n",
    "    winnings['my wins '] = wins\n",
    "    winnings['opponent wins '] = wins2\n",
    "\n",
    "    return winnings"
   ]
  },
  {
   "cell_type": "code",
   "execution_count": 28,
   "id": "9c2ae226-f046-42ef-931c-61ccf446fa75",
   "metadata": {},
   "outputs": [
    {
     "data": {
      "text/html": [
       "<div>\n",
       "<style scoped>\n",
       "    .dataframe tbody tr th:only-of-type {\n",
       "        vertical-align: middle;\n",
       "    }\n",
       "\n",
       "    .dataframe tbody tr th {\n",
       "        vertical-align: top;\n",
       "    }\n",
       "\n",
       "    .dataframe thead th {\n",
       "        text-align: right;\n",
       "    }\n",
       "</style>\n",
       "<table border=\"1\" class=\"dataframe\">\n",
       "  <thead>\n",
       "    <tr style=\"text-align: right;\">\n",
       "      <th></th>\n",
       "      <th>Heading</th>\n",
       "      <th>my wins</th>\n",
       "      <th>opponent wins</th>\n",
       "    </tr>\n",
       "  </thead>\n",
       "  <tbody>\n",
       "    <tr>\n",
       "      <th>0</th>\n",
       "      <td>first 1000 games</td>\n",
       "      <td>183</td>\n",
       "      <td>34</td>\n",
       "    </tr>\n",
       "    <tr>\n",
       "      <th>1</th>\n",
       "      <td>next 1000 games</td>\n",
       "      <td>107</td>\n",
       "      <td>36</td>\n",
       "    </tr>\n",
       "    <tr>\n",
       "      <th>2</th>\n",
       "      <td>next 1000 games</td>\n",
       "      <td>123</td>\n",
       "      <td>29</td>\n",
       "    </tr>\n",
       "    <tr>\n",
       "      <th>3</th>\n",
       "      <td>next 1000 games</td>\n",
       "      <td>116</td>\n",
       "      <td>34</td>\n",
       "    </tr>\n",
       "    <tr>\n",
       "      <th>4</th>\n",
       "      <td>next 1000 games</td>\n",
       "      <td>106</td>\n",
       "      <td>44</td>\n",
       "    </tr>\n",
       "  </tbody>\n",
       "</table>\n",
       "</div>"
      ],
      "text/plain": [
       "            Heading  my wins   opponent wins \n",
       "0  first 1000 games       183              34\n",
       "1   next 1000 games       107              36\n",
       "2   next 1000 games       123              29\n",
       "3   next 1000 games       116              34\n",
       "4   next 1000 games       106              44"
      ]
     },
     "metadata": {},
     "output_type": "display_data"
    },
    {
     "data": {
      "text/html": [
       "<div>\n",
       "<style scoped>\n",
       "    .dataframe tbody tr th:only-of-type {\n",
       "        vertical-align: middle;\n",
       "    }\n",
       "\n",
       "    .dataframe tbody tr th {\n",
       "        vertical-align: top;\n",
       "    }\n",
       "\n",
       "    .dataframe thead th {\n",
       "        text-align: right;\n",
       "    }\n",
       "</style>\n",
       "<table border=\"1\" class=\"dataframe\">\n",
       "  <thead>\n",
       "    <tr style=\"text-align: right;\">\n",
       "      <th></th>\n",
       "      <th>Heading</th>\n",
       "      <th>my wins</th>\n",
       "      <th>opponent wins</th>\n",
       "    </tr>\n",
       "  </thead>\n",
       "  <tbody>\n",
       "    <tr>\n",
       "      <th>0</th>\n",
       "      <td>first 1000 games</td>\n",
       "      <td>180</td>\n",
       "      <td>53</td>\n",
       "    </tr>\n",
       "    <tr>\n",
       "      <th>1</th>\n",
       "      <td>next 1000 games</td>\n",
       "      <td>147</td>\n",
       "      <td>66</td>\n",
       "    </tr>\n",
       "    <tr>\n",
       "      <th>2</th>\n",
       "      <td>next 1000 games</td>\n",
       "      <td>151</td>\n",
       "      <td>55</td>\n",
       "    </tr>\n",
       "    <tr>\n",
       "      <th>3</th>\n",
       "      <td>next 1000 games</td>\n",
       "      <td>148</td>\n",
       "      <td>42</td>\n",
       "    </tr>\n",
       "    <tr>\n",
       "      <th>4</th>\n",
       "      <td>next 1000 games</td>\n",
       "      <td>135</td>\n",
       "      <td>50</td>\n",
       "    </tr>\n",
       "  </tbody>\n",
       "</table>\n",
       "</div>"
      ],
      "text/plain": [
       "            Heading  my wins   opponent wins \n",
       "0  first 1000 games       180              53\n",
       "1   next 1000 games       147              66\n",
       "2   next 1000 games       151              55\n",
       "3   next 1000 games       148              42\n",
       "4   next 1000 games       135              50"
      ]
     },
     "metadata": {},
     "output_type": "display_data"
    },
    {
     "data": {
      "text/html": [
       "<div>\n",
       "<style scoped>\n",
       "    .dataframe tbody tr th:only-of-type {\n",
       "        vertical-align: middle;\n",
       "    }\n",
       "\n",
       "    .dataframe tbody tr th {\n",
       "        vertical-align: top;\n",
       "    }\n",
       "\n",
       "    .dataframe thead th {\n",
       "        text-align: right;\n",
       "    }\n",
       "</style>\n",
       "<table border=\"1\" class=\"dataframe\">\n",
       "  <thead>\n",
       "    <tr style=\"text-align: right;\">\n",
       "      <th></th>\n",
       "      <th>Heading</th>\n",
       "      <th>my wins</th>\n",
       "      <th>opponent wins</th>\n",
       "    </tr>\n",
       "  </thead>\n",
       "  <tbody>\n",
       "    <tr>\n",
       "      <th>0</th>\n",
       "      <td>first 1000 games</td>\n",
       "      <td>284</td>\n",
       "      <td>116</td>\n",
       "    </tr>\n",
       "    <tr>\n",
       "      <th>1</th>\n",
       "      <td>next 1000 games</td>\n",
       "      <td>311</td>\n",
       "      <td>126</td>\n",
       "    </tr>\n",
       "    <tr>\n",
       "      <th>2</th>\n",
       "      <td>next 1000 games</td>\n",
       "      <td>317</td>\n",
       "      <td>166</td>\n",
       "    </tr>\n",
       "    <tr>\n",
       "      <th>3</th>\n",
       "      <td>next 1000 games</td>\n",
       "      <td>306</td>\n",
       "      <td>207</td>\n",
       "    </tr>\n",
       "    <tr>\n",
       "      <th>4</th>\n",
       "      <td>next 1000 games</td>\n",
       "      <td>314</td>\n",
       "      <td>214</td>\n",
       "    </tr>\n",
       "  </tbody>\n",
       "</table>\n",
       "</div>"
      ],
      "text/plain": [
       "            Heading  my wins   opponent wins \n",
       "0  first 1000 games       284             116\n",
       "1   next 1000 games       311             126\n",
       "2   next 1000 games       317             166\n",
       "3   next 1000 games       306             207\n",
       "4   next 1000 games       314             214"
      ]
     },
     "metadata": {},
     "output_type": "display_data"
    },
    {
     "data": {
      "text/html": [
       "<div>\n",
       "<style scoped>\n",
       "    .dataframe tbody tr th:only-of-type {\n",
       "        vertical-align: middle;\n",
       "    }\n",
       "\n",
       "    .dataframe tbody tr th {\n",
       "        vertical-align: top;\n",
       "    }\n",
       "\n",
       "    .dataframe thead th {\n",
       "        text-align: right;\n",
       "    }\n",
       "</style>\n",
       "<table border=\"1\" class=\"dataframe\">\n",
       "  <thead>\n",
       "    <tr style=\"text-align: right;\">\n",
       "      <th></th>\n",
       "      <th>Heading</th>\n",
       "      <th>my wins</th>\n",
       "      <th>opponent wins</th>\n",
       "    </tr>\n",
       "  </thead>\n",
       "  <tbody>\n",
       "    <tr>\n",
       "      <th>0</th>\n",
       "      <td>first 1000 games</td>\n",
       "      <td>261</td>\n",
       "      <td>180</td>\n",
       "    </tr>\n",
       "    <tr>\n",
       "      <th>1</th>\n",
       "      <td>next 1000 games</td>\n",
       "      <td>293</td>\n",
       "      <td>207</td>\n",
       "    </tr>\n",
       "    <tr>\n",
       "      <th>2</th>\n",
       "      <td>next 1000 games</td>\n",
       "      <td>266</td>\n",
       "      <td>183</td>\n",
       "    </tr>\n",
       "    <tr>\n",
       "      <th>3</th>\n",
       "      <td>next 1000 games</td>\n",
       "      <td>303</td>\n",
       "      <td>181</td>\n",
       "    </tr>\n",
       "    <tr>\n",
       "      <th>4</th>\n",
       "      <td>next 1000 games</td>\n",
       "      <td>307</td>\n",
       "      <td>166</td>\n",
       "    </tr>\n",
       "  </tbody>\n",
       "</table>\n",
       "</div>"
      ],
      "text/plain": [
       "            Heading  my wins   opponent wins \n",
       "0  first 1000 games       261             180\n",
       "1   next 1000 games       293             207\n",
       "2   next 1000 games       266             183\n",
       "3   next 1000 games       303             181\n",
       "4   next 1000 games       307             166"
      ]
     },
     "metadata": {},
     "output_type": "display_data"
    }
   ],
   "source": [
    "df_wins = count_steps(df)\n",
    "df2_wins = count_steps(df2)\n",
    "df3_wins = count_steps(df3)\n",
    "df4_wins = count_steps(df4)\n",
    "\n",
    "display(df_wins)\n",
    "display(df2_wins)\n",
    "display(df3_wins)\n",
    "display(df4_wins)"
   ]
  },
  {
   "cell_type": "code",
   "execution_count": null,
   "id": "1fff4ae6-4efc-425e-ad38-0a43c882011d",
   "metadata": {},
   "outputs": [],
   "source": [
    "me_df = df_wins['my wins ']\n",
    "me_df2 = df2_wins['my wins ']\n",
    "\n",
    "avg_me = (me_df+me_df2)/2\n",
    "\n",
    "df2_wins['avg_me'] = avg_me\n",
    "\n",
    "opp_df = df_wins['opponent wins ']\n",
    "opp_df2 = df2_wins['opponent wins ']\n",
    "\n",
    "avg_opp = (opp_df+opp_df2)/2\n",
    "\n",
    "df2_wins['avg_opp'] = avg_opp\n",
    "\n",
    "df2_wins"
   ]
  },
  {
   "cell_type": "code",
   "execution_count": 17,
   "id": "c8193451-e047-4a64-9ef2-ef9821afb7f0",
   "metadata": {},
   "outputs": [],
   "source": [
    "def accum_me(df):\n",
    "    cumsum = 0\n",
    "    all_sum = []\n",
    "\n",
    "    for i in range(df.shape[0]):\n",
    "        # print(df['winner'][i])\n",
    "        if df['winner'][i] == 1:\n",
    "            cumsum +=1\n",
    "        all_sum.append(cumsum)\n",
    "\n",
    "    df['accumulated_sum'] = all_sum\n",
    "    return df\n",
    "\n",
    "def accum_opp(df):\n",
    "    cumsum = 0\n",
    "    all_sum = []\n",
    "\n",
    "    for i in range(df.shape[0]):\n",
    "        # print(df['winner'][i])\n",
    "        if df['winner'][i] == 0:\n",
    "            cumsum +=1\n",
    "        all_sum.append(cumsum)\n",
    "\n",
    "    df['accumulated_sum_opp'] = all_sum\n",
    "    return df"
   ]
  },
  {
   "cell_type": "code",
   "execution_count": 18,
   "id": "07a4584b-3514-4239-a652-dc032e3dc577",
   "metadata": {},
   "outputs": [
    {
     "data": {
      "text/html": [
       "<div>\n",
       "<style scoped>\n",
       "    .dataframe tbody tr th:only-of-type {\n",
       "        vertical-align: middle;\n",
       "    }\n",
       "\n",
       "    .dataframe tbody tr th {\n",
       "        vertical-align: top;\n",
       "    }\n",
       "\n",
       "    .dataframe thead th {\n",
       "        text-align: right;\n",
       "    }\n",
       "</style>\n",
       "<table border=\"1\" class=\"dataframe\">\n",
       "  <thead>\n",
       "    <tr style=\"text-align: right;\">\n",
       "      <th></th>\n",
       "      <th>winner</th>\n",
       "      <th>accumulated_sum</th>\n",
       "      <th>accumulated_sum_opp</th>\n",
       "      <th>avg_me</th>\n",
       "      <th>avg_opp</th>\n",
       "    </tr>\n",
       "  </thead>\n",
       "  <tbody>\n",
       "    <tr>\n",
       "      <th>0</th>\n",
       "      <td>-1</td>\n",
       "      <td>0</td>\n",
       "      <td>0</td>\n",
       "      <td>0.0</td>\n",
       "      <td>0.0</td>\n",
       "    </tr>\n",
       "    <tr>\n",
       "      <th>1</th>\n",
       "      <td>1</td>\n",
       "      <td>1</td>\n",
       "      <td>0</td>\n",
       "      <td>0.5</td>\n",
       "      <td>0.5</td>\n",
       "    </tr>\n",
       "    <tr>\n",
       "      <th>2</th>\n",
       "      <td>-1</td>\n",
       "      <td>1</td>\n",
       "      <td>0</td>\n",
       "      <td>1.0</td>\n",
       "      <td>0.5</td>\n",
       "    </tr>\n",
       "    <tr>\n",
       "      <th>3</th>\n",
       "      <td>-1</td>\n",
       "      <td>1</td>\n",
       "      <td>0</td>\n",
       "      <td>1.0</td>\n",
       "      <td>1.0</td>\n",
       "    </tr>\n",
       "    <tr>\n",
       "      <th>4</th>\n",
       "      <td>1</td>\n",
       "      <td>2</td>\n",
       "      <td>0</td>\n",
       "      <td>2.0</td>\n",
       "      <td>1.0</td>\n",
       "    </tr>\n",
       "    <tr>\n",
       "      <th>...</th>\n",
       "      <td>...</td>\n",
       "      <td>...</td>\n",
       "      <td>...</td>\n",
       "      <td>...</td>\n",
       "      <td>...</td>\n",
       "    </tr>\n",
       "    <tr>\n",
       "      <th>4995</th>\n",
       "      <td>-1</td>\n",
       "      <td>761</td>\n",
       "      <td>266</td>\n",
       "      <td>698.0</td>\n",
       "      <td>221.5</td>\n",
       "    </tr>\n",
       "    <tr>\n",
       "      <th>4996</th>\n",
       "      <td>-1</td>\n",
       "      <td>761</td>\n",
       "      <td>266</td>\n",
       "      <td>698.0</td>\n",
       "      <td>221.5</td>\n",
       "    </tr>\n",
       "    <tr>\n",
       "      <th>4997</th>\n",
       "      <td>-1</td>\n",
       "      <td>761</td>\n",
       "      <td>266</td>\n",
       "      <td>698.0</td>\n",
       "      <td>221.5</td>\n",
       "    </tr>\n",
       "    <tr>\n",
       "      <th>4998</th>\n",
       "      <td>-1</td>\n",
       "      <td>761</td>\n",
       "      <td>266</td>\n",
       "      <td>698.0</td>\n",
       "      <td>221.5</td>\n",
       "    </tr>\n",
       "    <tr>\n",
       "      <th>4999</th>\n",
       "      <td>-1</td>\n",
       "      <td>761</td>\n",
       "      <td>266</td>\n",
       "      <td>698.0</td>\n",
       "      <td>221.5</td>\n",
       "    </tr>\n",
       "  </tbody>\n",
       "</table>\n",
       "<p>5000 rows × 5 columns</p>\n",
       "</div>"
      ],
      "text/plain": [
       "      winner  accumulated_sum  accumulated_sum_opp  avg_me  avg_opp\n",
       "0         -1                0                    0     0.0      0.0\n",
       "1          1                1                    0     0.5      0.5\n",
       "2         -1                1                    0     1.0      0.5\n",
       "3         -1                1                    0     1.0      1.0\n",
       "4          1                2                    0     2.0      1.0\n",
       "...      ...              ...                  ...     ...      ...\n",
       "4995      -1              761                  266   698.0    221.5\n",
       "4996      -1              761                  266   698.0    221.5\n",
       "4997      -1              761                  266   698.0    221.5\n",
       "4998      -1              761                  266   698.0    221.5\n",
       "4999      -1              761                  266   698.0    221.5\n",
       "\n",
       "[5000 rows x 5 columns]"
      ]
     },
     "execution_count": 18,
     "metadata": {},
     "output_type": "execute_result"
    }
   ],
   "source": [
    "df_accum = accum_me(df)\n",
    "df2_accum = accum_me(df2)\n",
    "df3_accum = accum_me(df3)\n",
    "df4_accum = accum_me(df4)\n",
    "\n",
    "df_accum = accum_opp(df_accum)\n",
    "df2_accum = accum_opp(df2_accum)\n",
    "df3_accum = accum_opp(df3_accum)\n",
    "df4_accum = accum_opp(df4_accum)\n",
    "\n",
    "# display(df_accum)\n",
    "# display(df2_accum)\n",
    "# display(df3_accum)\n",
    "# display(df4_accum)\n",
    "\n",
    "me_df = df_accum['accumulated_sum']\n",
    "me_df2 = df2_accum['accumulated_sum']\n",
    "\n",
    "avg_me = (me_df+me_df2)/2\n",
    "\n",
    "df2_accum['avg_me'] = avg_me\n",
    "\n",
    "opp_df = df_accum['accumulated_sum_opp']\n",
    "opp_df2 = df2_accum['accumulated_sum_opp']\n",
    "\n",
    "avg_opp = (opp_df+opp_df2)/2\n",
    "\n",
    "df2_accum['avg_opp'] = avg_opp\n",
    "\n",
    "df2_accum"
   ]
  },
  {
   "cell_type": "code",
   "execution_count": 19,
   "id": "9d69c07b-0d85-4c85-9477-7202b7a05880",
   "metadata": {},
   "outputs": [
    {
     "data": {
      "text/plain": [
       "Text(0.5, 0, 'game')"
      ]
     },
     "execution_count": 19,
     "metadata": {},
     "output_type": "execute_result"
    },
    {
     "data": {
      "image/png": "[encoded data removed]",
      "text/plain": [
       "<Figure size 432x288 with 1 Axes>"
      ]
     },
     "metadata": {
      "needs_background": "light"
     },
     "output_type": "display_data"
    }
   ],
   "source": [
    "sns.lineplot(x=df2_accum.index, y=df2_accum['accumulated_sum'])\n",
    "sns.lineplot(x=df2_accum.index, y=df2_accum['accumulated_sum_opp'])\n",
    "\n",
    "plt.legend(['me','opponent'])\n",
    "\n",
    "plt.title('Opponent Modelling (with created eval function) v. Minimax (max depth 5) soccer game')\n",
    "plt.ylabel('accumulated wins')\n",
    "plt.xlabel('game')"
   ]
  },
  {
   "cell_type": "code",
   "execution_count": 20,
   "id": "43a130d8-f7bb-4bef-959d-7e480c408000",
   "metadata": {},
   "outputs": [
    {
     "data": {
      "text/plain": [
       "Text(0.5, 0, 'game')"
      ]
     },
     "execution_count": 20,
     "metadata": {},
     "output_type": "execute_result"
    },
    {
     "data": {
      "image/png": "[encoded data removed]",
      "text/plain": [
       "<Figure size 432x288 with 1 Axes>"
      ]
     },
     "metadata": {
      "needs_background": "light"
     },
     "output_type": "display_data"
    }
   ],
   "source": [
    "sns.lineplot(x=df3_accum.index, y=df3_accum['accumulated_sum'])\n",
    "sns.lineplot(x=df3_accum.index, y=df3_accum['accumulated_sum_opp'])\n",
    "\n",
    "plt.legend(['me','opponent'])\n",
    "\n",
    "plt.title('Opponent Modelling (with basic reward) v. Minimax (max depth 5) soccer game')\n",
    "plt.ylabel('accumulated wins')\n",
    "plt.xlabel('game')"
   ]
  },
  {
   "cell_type": "code",
   "execution_count": 21,
   "id": "dfcc677a-c5fa-47a0-9a4b-4d0a0ae018d7",
   "metadata": {},
   "outputs": [
    {
     "data": {
      "text/plain": [
       "Text(0.5, 0, 'game')"
      ]
     },
     "execution_count": 21,
     "metadata": {},
     "output_type": "execute_result"
    },
    {
     "data": {
      "image/png": "[encoded data removed]",
      "text/plain": [
       "<Figure size 432x288 with 1 Axes>"
      ]
     },
     "metadata": {
      "needs_background": "light"
     },
     "output_type": "display_data"
    }
   ],
   "source": [
    "sns.lineplot(x=df4_accum.index, y=df4_accum['accumulated_sum'])\n",
    "sns.lineplot(x=df4_accum.index, y=df4_accum['accumulated_sum_opp'])\n",
    "\n",
    "plt.legend(['me','opponent'])\n",
    "\n",
    "plt.title('Minimax (max depth 5) v. Minimax (max depth 5) soccer game')\n",
    "plt.ylabel('accumulated wins')\n",
    "plt.xlabel('game')"
   ]
  },
  {
   "cell_type": "code",
   "execution_count": 38,
   "id": "b61d71c3-c9d7-4acb-b946-4577388292f6",
   "metadata": {},
   "outputs": [
    {
     "name": "stdout",
     "output_type": "stream",
     "text": [
      "13.96\n"
     ]
    }
   ],
   "source": [
    "avg_om_evalre = (df2_wins['my wins '].sum() + df_wins['my wins '].sum())/2\n",
    "\n",
    "print(avg_om_evalre/5000*100)"
   ]
  },
  {
   "cell_type": "code",
   "execution_count": 47,
   "id": "48a736ca-47c2-49bf-b455-f36093c5b8c8",
   "metadata": {},
   "outputs": [
    {
     "data": {
      "text/plain": [
       "30.64"
      ]
     },
     "execution_count": 47,
     "metadata": {},
     "output_type": "execute_result"
    }
   ],
   "source": [
    "df3_wins['my wins '].sum()/5000*100"
   ]
  },
  {
   "cell_type": "code",
   "execution_count": null,
   "id": "14337293-7481-4f1b-9661-657493e18f05",
   "metadata": {},
   "outputs": [],
   "source": []
  }
 ],
 "metadata": {
  "kernelspec": {
   "display_name": "Python 3 (ipykernel)",
   "language": "python",
   "name": "python3"
  },
  "language_info": {
   "codemirror_mode": {
    "name": "ipython",
    "version": 3
   },
   "file_extension": ".py",
   "mimetype": "text/x-python",
   "name": "python",
   "nbconvert_exporter": "python",
   "pygments_lexer": "ipython3",
   "version": "3.8.12"
  }
 },
 "nbformat": 4,
 "nbformat_minor": 5
}
