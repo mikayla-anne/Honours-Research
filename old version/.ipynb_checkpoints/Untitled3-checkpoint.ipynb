{
 "cells": [
  {
   "cell_type": "code",
   "execution_count": 1,
   "id": "165c410d-87f5-45b9-be00-18ba35b14142",
   "metadata": {},
   "outputs": [],
   "source": [
    "import numpy as np\n",
    "import pandas as pd\n",
    "import matplotlib.pyplot as plt\n",
    "import seaborn as sns\n",
    "from scipy import stats"
   ]
  },
  {
   "cell_type": "code",
   "execution_count": 25,
   "id": "513bdde1-2c6f-4cfb-be62-001c2af1d58e",
   "metadata": {},
   "outputs": [
    {
     "name": "stdout",
     "output_type": "stream",
     "text": [
      "[0. 0. 0. 0. 0.]\n",
      "[ 0.   -1.   -1.5  -1.75  0.  ]\n",
      "[ 0.    -1.75  -2.75  -2.375  0.   ]\n",
      "[ 0.     -2.375  -3.375  -2.6875  0.    ]\n",
      "[ 0.      -2.6875  -3.6875  -2.84375  0.     ]\n",
      "[ 0.       -2.84375  -3.84375  -2.921875  0.      ]\n",
      "[ 0.        -2.921875  -3.921875  -2.9609375  0.       ]\n",
      "[ 0.         -2.9609375  -3.9609375  -2.98046875  0.        ]\n",
      "[ 0.         -2.98046875 -3.98046875 -2.99023438  0.        ]\n",
      "[ 0.         -2.99023438 -3.99023438 -2.99511719  0.        ]\n"
     ]
    }
   ],
   "source": [
    "V = np.zeros(5)\n",
    "print(V)\n",
    "err = 0.01\n",
    "\n",
    "while (True):\n",
    "    tri = 0\n",
    "    V_temp = V\n",
    "    for i in range(1,4):\n",
    "        v = V_temp[i]\n",
    "        V_temp[i] = 0.5*(-1+V_temp[i-1])+0.5*(-1+V_temp[i+1])\n",
    "        tri = max(tri, abs(v-V_temp[i]))\n",
    "    V = V_temp\n",
    "    if err > tri:\n",
    "        break;"
   ]
  },
  {
   "cell_type": "code",
   "execution_count": null,
   "id": "39f42fab-d9d8-410b-86e4-500a5b0f6a05",
   "metadata": {},
   "outputs": [],
   "source": []
  }
 ],
 "metadata": {
  "kernelspec": {
   "display_name": "Python 3 (ipykernel)",
   "language": "python",
   "name": "python3"
  },
  "language_info": {
   "codemirror_mode": {
    "name": "ipython",
    "version": 3
   },
   "file_extension": ".py",
   "mimetype": "text/x-python",
   "name": "python",
   "nbconvert_exporter": "python",
   "pygments_lexer": "ipython3",
   "version": "3.8.12"
  }
 },
 "nbformat": 4,
 "nbformat_minor": 5
}
